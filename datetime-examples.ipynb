{
 "cells": [
  {
   "cell_type": "markdown",
   "id": "362e5a21",
   "metadata": {},
   "source": [
    "# Libraries"
   ]
  },
  {
   "cell_type": "code",
   "execution_count": 18,
   "id": "18d15f4c",
   "metadata": {},
   "outputs": [],
   "source": [
    "import pandas as pd\n",
    "import datetime\n",
    "import numpy as np # imported to use datetime64 "
   ]
  },
  {
   "cell_type": "markdown",
   "id": "a74c97c2",
   "metadata": {},
   "source": [
    "# `datetime` Examples"
   ]
  },
  {
   "cell_type": "code",
   "execution_count": 4,
   "id": "7eabbc7a",
   "metadata": {},
   "outputs": [
    {
     "name": "stdout",
     "output_type": "stream",
     "text": [
      "2021-10-20\n"
     ]
    }
   ],
   "source": [
    "dt = datetime.date(2021, 10, 20)\n",
    "\n",
    "print(dt)"
   ]
  },
  {
   "cell_type": "code",
   "execution_count": 6,
   "id": "4afcb97a",
   "metadata": {},
   "outputs": [
    {
     "data": {
      "text/plain": [
       "datetime.date(2021, 10, 20)"
      ]
     },
     "execution_count": 6,
     "metadata": {},
     "output_type": "execute_result"
    }
   ],
   "source": [
    "datetime.date.today() # use this to look up what the day is "
   ]
  },
  {
   "cell_type": "code",
   "execution_count": 17,
   "id": "654cfbed",
   "metadata": {},
   "outputs": [
    {
     "data": {
      "text/plain": [
       "'October 20, 2021'"
      ]
     },
     "execution_count": 17,
     "metadata": {},
     "output_type": "execute_result"
    }
   ],
   "source": [
    "dt.strftime(\"%d/%m/%y\") # string format time\n",
    "\n",
    "# uppercase Y displays 4 digits and lowercase y displays 2 digits\n",
    "\n",
    "dt.strftime(\"%B %d, %Y\") # code how you want it to be displayed note there are no slashes here\n",
    "\n",
    "# uppercase B gives the full month, lowercase b gives the month abbreviation"
   ]
  },
  {
   "cell_type": "code",
   "execution_count": 14,
   "id": "ad76f280",
   "metadata": {},
   "outputs": [
    {
     "name": "stdout",
     "output_type": "stream",
     "text": [
      "10:09:00\n"
     ]
    }
   ],
   "source": [
    "time = datetime.time(10, 9, 0)\n",
    "\n",
    "print(time)"
   ]
  },
  {
   "cell_type": "code",
   "execution_count": 15,
   "id": "e1bf02fc",
   "metadata": {},
   "outputs": [
    {
     "data": {
      "text/plain": [
       "43"
      ]
     },
     "execution_count": 15,
     "metadata": {},
     "output_type": "execute_result"
    }
   ],
   "source": [
    "lastclass = datetime.datetime(2021, 12, 3)\n",
    "todaydate = datetime.datetime.today()\n",
    "\n",
    "daysleft = lastclass - todaydate\n",
    "\n",
    "daysleft.days"
   ]
  },
  {
   "cell_type": "markdown",
   "id": "5db38295",
   "metadata": {},
   "source": [
    "## `numpy` `datetime64` examples"
   ]
  },
  {
   "cell_type": "code",
   "execution_count": 19,
   "id": "f3411501",
   "metadata": {},
   "outputs": [
    {
     "data": {
      "text/plain": [
       "numpy.datetime64('2021-10-20')"
      ]
     },
     "execution_count": 19,
     "metadata": {},
     "output_type": "execute_result"
    }
   ],
   "source": [
    "np.datetime64('2021-10-20')"
   ]
  },
  {
   "cell_type": "code",
   "execution_count": 21,
   "id": "a0368c17",
   "metadata": {},
   "outputs": [
    {
     "name": "stdout",
     "output_type": "stream",
     "text": [
      "2021-10-20\n"
     ]
    }
   ],
   "source": [
    "todaydate = np.datetime64('today')\n",
    "\n",
    "print(todaydate)"
   ]
  },
  {
   "cell_type": "code",
   "execution_count": 23,
   "id": "495ddb64",
   "metadata": {},
   "outputs": [
    {
     "name": "stdout",
     "output_type": "stream",
     "text": [
      "44 days\n"
     ]
    }
   ],
   "source": [
    "lastclass = np.datetime64('2021-12-03')\n",
    "daysleft = lastclass - todaydate\n",
    "\n",
    "print(daysleft)"
   ]
  }
 ],
 "metadata": {
  "kernelspec": {
   "display_name": "Python 3 (ipykernel)",
   "language": "python",
   "name": "python3"
  },
  "language_info": {
   "codemirror_mode": {
    "name": "ipython",
    "version": 3
   },
   "file_extension": ".py",
   "mimetype": "text/x-python",
   "name": "python",
   "nbconvert_exporter": "python",
   "pygments_lexer": "ipython3",
   "version": "3.9.7"
  }
 },
 "nbformat": 4,
 "nbformat_minor": 5
}
